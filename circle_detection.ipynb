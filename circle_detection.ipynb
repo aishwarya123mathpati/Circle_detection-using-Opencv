{
 "cells": [
  {
   "cell_type": "code",
   "execution_count": 5,
   "metadata": {},
   "outputs": [
    {
     "data": {
      "text/plain": [
       "True"
      ]
     },
     "execution_count": 5,
     "metadata": {},
     "output_type": "execute_result"
    }
   ],
   "source": [
    "#import the necessary libraries\n",
    "import cv2 \n",
    "import numpy as np \n",
    "#read the input image \n",
    "img = cv2.imread('assignment.jpg', cv2.IMREAD_COLOR) \n",
    "gray = cv2.cvtColor(img, cv2.COLOR_BGR2GRAY)\n",
    "width, height = gray.shape[:2]\n",
    "dummy,thresh = cv2.threshold(gray,250,255,cv2.THRESH_BINARY_INV)\n",
    "thresh = cv2.blur(thresh,(10, 10)) \n",
    "\n",
    "output = img.copy()\n",
    "circles = cv2.HoughCircles(thresh,cv2.HOUGH_GRADIENT, 1, width/3., param2=20)\n",
    "\n",
    "centres = []\n",
    "if circles is not None:\n",
    "    circles = np.round(circles[0, :]).astype(\"int\")\n",
    "    for (x, y, r) in circles:\n",
    "        cv2.circle(output, (x, y), r, (0, 255, 0), 2)\n",
    "        cv2.circle(output, (x, y), 1, (0, 0, 255), 3)\n",
    "        centres.append((x,y))\n",
    "else:\n",
    "    print(\"No circles found\")\n",
    "    exit(0)\n",
    "\n",
    "for i in range(len(centres)-1):\n",
    "    for j in range(i+1,len(centres)):\n",
    "        cv2.line(output, centres[i], centres[j], (0, 0, 255), thickness=2)\n",
    "\n",
    "cv2.imwrite('output.png', output) \n"
   ]
  },
  {
   "cell_type": "code",
   "execution_count": null,
   "metadata": {},
   "outputs": [],
   "source": []
  }
 ],
 "metadata": {
  "kernelspec": {
   "display_name": "Python 3",
   "language": "python",
   "name": "python3"
  },
  "language_info": {
   "codemirror_mode": {
    "name": "ipython",
    "version": 3
   },
   "file_extension": ".py",
   "mimetype": "text/x-python",
   "name": "python",
   "nbconvert_exporter": "python",
   "pygments_lexer": "ipython3",
   "version": "3.7.4"
  }
 },
 "nbformat": 4,
 "nbformat_minor": 2
}
